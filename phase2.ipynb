{
  "nbformat": 4,
  "nbformat_minor": 0,
  "metadata": {
    "colab": {
      "private_outputs": true,
      "provenance": [],
      "authorship_tag": "ABX9TyO4TawgWq0Z/OGLGOSR2OMu",
      "include_colab_link": true
    },
    "kernelspec": {
      "name": "python3",
      "display_name": "Python 3"
    },
    "language_info": {
      "name": "python"
    }
  },
  "cells": [
    {
      "cell_type": "markdown",
      "metadata": {
        "id": "view-in-github",
        "colab_type": "text"
      },
      "source": [
        "<a href=\"https://colab.research.google.com/github/soheylanzo/Anzo1/blob/main/phase2.ipynb\" target=\"_parent\"><img src=\"https://colab.research.google.com/assets/colab-badge.svg\" alt=\"Open In Colab\"/></a>"
      ]
    },
    {
      "cell_type": "code",
      "execution_count": null,
      "metadata": {
        "id": "rdEdu2795P8K"
      },
      "outputs": [],
      "source": [
        "pip install FlightRadarAPI"
      ]
    },
    {
      "cell_type": "code",
      "source": [
        "# Define our main tools:\n",
        "from FlightRadar24.api import FlightRadar24API\n",
        "fr_api = FlightRadar24API()\n",
        "\n",
        "# Definition of tools used in reading images\n",
        "from PIL import Image\n",
        "import requests\n",
        "from io import BytesIO\n",
        "\n",
        "# This library will be used to display images\n",
        "from matplotlib import pyplot as plt\n",
        "\n",
        "# Map tool\n",
        "import folium"
      ],
      "metadata": {
        "id": "XdQRQb0l59L_"
      },
      "execution_count": null,
      "outputs": []
    },
    {
      "cell_type": "code",
      "source": [
        "b = \"36.571.35.849.59.142.60.094\"\n",
        "flights = fr_api.get_flights(bounds = b)"
      ],
      "metadata": {
        "id": "kuVK80BO6fdA"
      },
      "execution_count": null,
      "outputs": []
    },
    {
      "cell_type": "code",
      "source": [
        "flights"
      ],
      "metadata": {
        "id": "MV0RLxsb63d1"
      },
      "execution_count": null,
      "outputs": []
    },
    {
      "cell_type": "code",
      "source": [
        "flight = flights[0]\n",
        "flight_details = fr_api.get_flight_details(flight)"
      ],
      "metadata": {
        "id": "j17o0kAt7FFe"
      },
      "execution_count": null,
      "outputs": []
    },
    {
      "cell_type": "code",
      "source": [
        "flight_details"
      ],
      "metadata": {
        "id": "s8RISuZi8Dbx"
      },
      "execution_count": null,
      "outputs": []
    },
    {
      "cell_type": "code",
      "source": [
        "aircraft = flight_details['aircraft']\n",
        "airline = flight_details['airline']\n",
        "\n",
        "if flight_details['airport']['origin'] != None:\n",
        "    origin = flight_details['airport']['origin']['name']\n",
        "else:\n",
        "    origin = None\n",
        "\n",
        "if flight_details['airport']['destination'] != None:\n",
        "    destination = flight_details['airport']['destination']['name']\n",
        "    destination_icao = flight_details['airport']['destination']['code']['icao']\n",
        "else:\n",
        "    destination = None\n",
        "\n",
        "\n",
        "response = flight_details['aircraft']['images']['large']\n",
        "for r in response:\n",
        "  curr_response = requests.get(r['src'])\n",
        "  img2 = Image.open(BytesIO(curr_response.content))\n",
        "\n",
        "  # Show the loaded image\n",
        "  #img2.show()\n",
        "\n",
        "  plt.imshow(img2,cmap='gray')\n",
        "  plt.show()\n"
      ],
      "metadata": {
        "id": "V0Uj30eq8gr6"
      },
      "execution_count": null,
      "outputs": []
    },
    {
      "cell_type": "code",
      "source": [
        "if airline != None:\n",
        "    print(aircraft['model']['text'], \": \", airline['name'], \"/\", airline['code']['icao'])\n",
        "    print(\"{} ----> {}\".format(origin, destination))\n",
        "\n",
        "\n",
        "airport = fr_api.get_airport(destination_icao)\n",
        "distance = flight.get_distance_from(airport)\n",
        "\n",
        "print(\"{}km\".format(distance))"
      ],
      "metadata": {
        "id": "tDcVnuXn9nuH"
      },
      "execution_count": null,
      "outputs": []
    },
    {
      "cell_type": "code",
      "source": [],
      "metadata": {
        "id": "A6O7ANXr_N33"
      },
      "execution_count": null,
      "outputs": []
    }
  ]
}